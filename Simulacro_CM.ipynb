{
 "cells": [
  {
   "cell_type": "markdown",
   "metadata": {},
   "source": [
    "### Algoritmia: simulacro parcial\n",
    "\n",
    "Resuelva en formato de notebook el problema solicitado.  \n",
    "(Duración: 1h 10min)"
   ]
  },
  {
   "cell_type": "code",
   "execution_count": 129,
   "metadata": {},
   "outputs": [
    {
     "name": "stdout",
     "output_type": "stream",
     "text": [
      "Suerte en su simulacro :)\n"
     ]
    }
   ],
   "source": [
    "print('Suerte en su simulacro :)')"
   ]
  },
  {
   "cell_type": "markdown",
   "metadata": {},
   "source": [
    "#### Instrucciones:\n",
    "\n",
    "1) Utilizar la función de `bubble_sort_opt` como la implementación base del problema.  \n",
    "\n",
    "    1.1) Crear y poblar una lista desordenada de 1M de elementos, con números aleatorios entre 0 y 10M.  \n",
    "\n",
    "    1.2) Ordenar la lista creada con el algoritmo brindado. \n",
    "\n",
    "2) Seleccionar un algoritmo de ordenamiento más eficiente al base. No puede ser merge sort. \n",
    " \n",
    "    2.1) Implementar dicho algoritmo.  \n",
    "    \n",
    "    2.2) Ordenar la lista creada en el paso `1.1` con el nuevo algoritmo.  \n",
    "\n",
    "3) Implementar una función que tome como parámetros la lista desordenada, un algoritmo de ordenamiento y un valor de búsqueda. Cada ejecución debe ordenar la lista con el algoritmo seleccionado y debe devolver el número de índice en el cual se encuentra el elemento por primera vez. En caso de no encontrarse en la lista, debe devolver -1.\n",
    "\n",
    "4) Usando la función creada en el paso `3`, realizar una comparación de tiempos entre ambos algoritmos de ordenamiento y demostrar que el segundo algoritmo es más eficiente en la práctica."
   ]
  },
  {
   "cell_type": "code",
   "execution_count": 130,
   "metadata": {},
   "outputs": [],
   "source": [
    "def bubble_sort_opt(arr):\n",
    "\n",
    "    n = len(arr)\n",
    "\n",
    "    for i in range(n):\n",
    "\n",
    "        sorted = True\n",
    "\n",
    "        for j in range(n - 1 - i):\n",
    "            if arr[j] > arr[j+1]:\n",
    "                arr[j], arr[j+1] = arr[j+1], arr[j]\n",
    "                sorted = False\n",
    "        \n",
    "        if sorted:\n",
    "            return arr\n",
    "        \n",
    "    return arr"
   ]
  },
  {
   "cell_type": "markdown",
   "metadata": {},
   "source": [
    "##Lista de 5,000 datos "
   ]
  },
  {
   "cell_type": "code",
   "execution_count": 131,
   "metadata": {},
   "outputs": [
    {
     "name": "stdout",
     "output_type": "stream",
     "text": [
      "20000\n"
     ]
    }
   ],
   "source": [
    "import random\n",
    "\n",
    "random_list = [random.randint(0, 10_000_000) for _ in range(20_000)]\n",
    "print(len(random_list))\n",
    "\n",
    "list_to_sort1 = random_list[:]\n",
    "list_to_sort2 = random_list[:]\n"
   ]
  },
  {
   "cell_type": "code",
   "execution_count": 132,
   "metadata": {},
   "outputs": [],
   "source": [
    "\n",
    "sorted_list1 = bubble_sort_opt(list_to_sort1)\n"
   ]
  },
  {
   "cell_type": "markdown",
   "metadata": {},
   "source": [
    "Implementaciòn de un segundo algoritmo: Insertion Sort"
   ]
  },
  {
   "cell_type": "code",
   "execution_count": 133,
   "metadata": {},
   "outputs": [],
   "source": [
    "def insertion_sort(array):\n",
    "    for i in range(1, len(array)):\n",
    "        key = array[i]\n",
    "        j = i - 1\n",
    "\n",
    "        while j >= 0 and key < array[j]:\n",
    "            array[j + 1] = array[j]\n",
    "            j = j - 1\n",
    "        array[j + 1] = key\n",
    "    \n",
    "    return array  \n"
   ]
  },
  {
   "cell_type": "code",
   "execution_count": 134,
   "metadata": {},
   "outputs": [
    {
     "name": "stdout",
     "output_type": "stream",
     "text": [
      "<class 'list'>\n",
      "Se han ordenado las listas\n"
     ]
    }
   ],
   "source": [
    "insertion_sort(list_to_sort2)\n",
    "print(type(list_to_sort2))\n",
    "\n",
    "if list_to_sort1 == list_to_sort2:\n",
    "    print(\"Se han ordenado las listas\")"
   ]
  },
  {
   "cell_type": "markdown",
   "metadata": {},
   "source": [
    "Funciòn para buscar nùmeros dentro de las listas"
   ]
  },
  {
   "cell_type": "code",
   "execution_count": 135,
   "metadata": {},
   "outputs": [],
   "source": [
    "def binary_search(arr, target):\n",
    "    \"\"\"\n",
    "    Realiza una búsqueda binaria en una lista ordenada.\n",
    "\n",
    "    :param arr: Lista ordenada de elementos.\n",
    "    :param target: Elemento a buscar.\n",
    "    :return: Índice del elemento si se encuentra, de lo contrario -1.\n",
    "    \"\"\"\n",
    "    left = 0\n",
    "    right = len(arr) - 1\n",
    "\n",
    "    while left <= right:\n",
    "        mid = left + (right - left) // 2\n",
    "        mid_val = arr[mid]\n",
    "\n",
    "        if mid_val == target:\n",
    "            return mid\n",
    "        elif mid_val < target:\n",
    "            left = mid + 1\n",
    "        else:\n",
    "            right = mid - 1\n",
    "\n",
    "    return -1\n"
   ]
  },
  {
   "cell_type": "code",
   "execution_count": 136,
   "metadata": {},
   "outputs": [],
   "source": [
    "\n",
    "def buscar_elemento(random_list, sort_algo, value):\n",
    "    \n",
    "    list_to_sort3 = random_list[:]\n",
    "    \n",
    "    \n",
    "    lista_ordenada = sort_algo(list_to_sort3)\n",
    "    \n",
    " \n",
    "    try:\n",
    "  \n",
    "        indice = binary_search(lista_ordenada, value)\n",
    "        return indice\n",
    "    except ValueError:\n",
    "        return -1  "
   ]
  },
  {
   "cell_type": "code",
   "execution_count": 137,
   "metadata": {},
   "outputs": [
    {
     "name": "stdout",
     "output_type": "stream",
     "text": [
      "Tiempo de ejecución con Bubble Sort: 24.46959 segundos, índice encontrado: 7050\n",
      "Tiempo de ejecución con Insertion Sort: 10.91572 segundos, índice encontrado: 7050\n"
     ]
    }
   ],
   "source": [
    "import time\n",
    "\n",
    "value = random_list[0]\n",
    "\n",
    "start_time_bubble = time.time()\n",
    "indice_bubble = buscar_elemento(random_list, bubble_sort_opt, value)\n",
    "bubble_sort_time = time.time() - start_time_bubble\n",
    "\n",
    "\n",
    "start_time_insertion = time.time()\n",
    "indice_insertion = buscar_elemento(random_list, insertion_sort, value)\n",
    "insertion_sort_time = time.time() - start_time_insertion\n",
    "\n",
    "\n",
    "print(f\"Tiempo de ejecución con Bubble Sort: {bubble_sort_time:.5f} segundos, índice encontrado: {indice_bubble}\")\n",
    "print(f\"Tiempo de ejecución con Insertion Sort: {insertion_sort_time:.5f} segundos, índice encontrado: {indice_insertion}\")"
   ]
  }
 ],
 "metadata": {
  "kernelspec": {
   "display_name": "Python 3",
   "language": "python",
   "name": "python3"
  },
  "language_info": {
   "codemirror_mode": {
    "name": "ipython",
    "version": 3
   },
   "file_extension": ".py",
   "mimetype": "text/x-python",
   "name": "python",
   "nbconvert_exporter": "python",
   "pygments_lexer": "ipython3",
   "version": "3.11.9"
  }
 },
 "nbformat": 4,
 "nbformat_minor": 2
}
