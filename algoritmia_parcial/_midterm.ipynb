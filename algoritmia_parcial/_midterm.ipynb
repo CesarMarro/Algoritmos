{
 "cells": [
  {
   "cell_type": "markdown",
   "metadata": {},
   "source": [
    "## Parcial algoritmia\n",
    "--- \n",
    "\n",
    "### Instrucciones\n",
    "\n",
    "- En al archivo `data.py` tendrá una lista con 150 diccionarios. Cada diccionarios en la lista representa un pokemon con sus datos correspondientes: Nombre, Tipo, EsLegendario. Estos serán los datos que alimentarán el resto de pasos.\n",
    "\n",
    "- En el archivo `pokemon.py` crear una clase **Pokemon()** que almacene los 3 atributos del pokemon.\n",
    "\n",
    "- En el archivo `hashtable.py` implementar una clase **HashTable()**. \n",
    "    - Dicha hashtable debe tener una propiedad de *m = 25*, lo cual quiere decir que por debajo habrá una lista de 25 slots. \n",
    "    - Debe diseñar una función de hashmap para tomar los *keys* (en este caso, el Nombre del Pokemon) y mapearlo a valores entre 0 y 24 (25 slots).\n",
    "    - Puesto que habrán más keys que slots en la tabla (150 > 25), su hash table debe soportar *chaining* con listas linkeadas.\n",
    "\n",
    "- Una vez esté lista su implementación de Hash Table, insertar los 150 pokemones en una instancia *HashTable()*.\n",
    "\n",
    "- Crear una función llamada `pokedex()` que acepte un *key* como parámetro, en este caso el Nombre del Pokemon, busque el key en el hash table y devuelva los 3 atributos correspondientes de forma legible. Demostrar su funcionamiento con ejemplos."
   ]
  },
  {
   "cell_type": "code",
   "execution_count": 1,
   "metadata": {},
   "outputs": [
    {
     "name": "stdout",
     "output_type": "stream",
     "text": [
      "Gotta catch 'em all. Suerte en su parcial.\n"
     ]
    }
   ],
   "source": [
    "print(\"Gotta catch 'em all. Suerte en su parcial.\")"
   ]
  },
  {
   "cell_type": "markdown",
   "metadata": {},
   "source": [
    "## Resolución de parcial\n",
    "\n",
    "Nombre: Cèsar Marroquìn\n",
    "\n",
    "---"
   ]
  },
  {
   "cell_type": "code",
   "execution_count": 2,
   "metadata": {},
   "outputs": [],
   "source": [
    "from data import POKEMON_DATA\n",
    "from hashtable import HashTable\n",
    "from pokemon import Pokemon"
   ]
  },
  {
   "cell_type": "code",
   "execution_count": 3,
   "metadata": {},
   "outputs": [],
   "source": [
    "\n",
    "pokemons = [Pokemon(p['Nombre'], p['Tipo'], p['Legendario']) for p in POKEMON_DATA]\n"
   ]
  },
  {
   "cell_type": "code",
   "execution_count": 4,
   "metadata": {},
   "outputs": [
    {
     "name": "stdout",
     "output_type": "stream",
     "text": [
      "Slot 0: Dragonite -> Zapdos -> Porygon -> Jynx -> Starmie -> Tangela -> Magneton -> Golem -> Machop\n",
      "Slot 1: Gyarados -> Hypno -> Muk -> Geodude -> Arcanine -> Golbat\n",
      "Slot 2: Omastar -> Goldeen -> Haunter -> Slowpoke -> Alakazam\n",
      "Slot 3: Rhydon -> Krabby -> Gastly -> Cloyster -> Kadabra -> Meowth -> Paras -> Oddish -> Beedrill -> Kakuna\n",
      "Slot 4: Pinsir -> Weezing -> Cubone -> Exeggutor -> Exeggcute -> Victreebel -> Poliwrath -> Poliwhirl -> Sandslash -> Raichu -> Bulbasaur\n",
      "Slot 5: Ivysaur\n",
      "Slot 6: Jolteon -> Seaking -> Weepinbell -> Venonat -> Ninetales\n",
      "Slot 7: Aerodactyl -> Doduo -> Clefable -> Nidoran♀ -> Squirtle -> Venusaur\n",
      "Slot 8: Omanyte -> Koffing -> Hitmonchan -> Hitmonlee\n",
      "Slot 9: Dodrio -> Dugtrio -> Nidorino -> Nidoran♂ -> Pikachu -> Blastoise\n",
      "Slot 10: Horsea -> Ponyta -> Gloom -> Pidgey\n",
      "Slot 11: Flareon -> Lapras -> Mr. Mime -> Drowzee -> Nidoqueen\n",
      "Slot 12: Articuno -> Magikarp -> Rapidash -> Tentacool -> Fearow -> Spearow\n",
      "Slot 13: Tauros -> Scyther -> Lickitung -> Mankey -> Golduck -> Raticate -> Caterpie -> Charmander\n",
      "Slot 14: Kabuto -> Onix -> Grimer -> Psyduck -> Wigglytuff -> Metapod -> Wartortle\n",
      "Slot 15: Dratini -> Eevee -> Kangaskhan -> Chansey -> Dewgong -> Clefairy\n",
      "Slot 16: Kabutops -> Ditto -> Kingler -> Pidgeot\n",
      "Slot 17: Moltres -> Vaporeon -> Seadra -> Farfetch'd -> Diglett\n",
      "Slot 18: Mewtwo -> Snorlax -> Seel -> Bellsprout -> Zubat -> Sandshrew -> Pidgeotto\n",
      "Slot 19: Dragonair -> Electrode -> Voltorb -> Shellder -> Magnemite -> Slowbro -> Primeape -> Parasect -> Nidoking\n",
      "Slot 20: Machamp -> Nidorina -> Arbok -> Charizard\n",
      "Slot 21: Rhyhorn -> Gengar -> Machoke -> Rattata\n",
      "Slot 22: Mew -> Magmar -> Marowak -> Tentacruel -> Persian -> Vileplume -> Jigglypuff -> Charmeleon\n",
      "Slot 23: Staryu -> Poliwag -> Venomoth -> Vulpix -> Ekans -> Weedle -> Butterfree\n",
      "Slot 24: Electabuzz -> Graveler -> Abra -> Growlithe\n",
      "\n"
     ]
    }
   ],
   "source": [
    "\n",
    "#m = 25 (Cuantas filas en la hash table)\n",
    "hash_table = HashTable(m=25)\n",
    "\n",
    "for pokemon in pokemons:\n",
    "    hash_table.insert(pokemon)\n",
    "\n",
    "print(hash_table)"
   ]
  },
  {
   "cell_type": "code",
   "execution_count": 5,
   "metadata": {},
   "outputs": [],
   "source": [
    "def pokedex(key, hash_table):\n",
    "    \"\"\"\n",
    "    Busca un Pokémon por su nombre en la tabla hash y devuelve sus atributos.\n",
    "\n",
    "    \"\"\"\n",
    "    pokemon = hash_table.search(key)\n",
    "    if pokemon:\n",
    "        legendario = \"Sí\" if pokemon.legendario else \"No\"\n",
    "        return f\"Nombre: {pokemon.nombre}\\nTipo: {pokemon.tipo}\\nLegendario: {legendario}\"\n",
    "    else:\n",
    "        return f\"Pokémon '{key}' no encontrado en la Pokédex.\""
   ]
  },
  {
   "cell_type": "code",
   "execution_count": 6,
   "metadata": {},
   "outputs": [
    {
     "name": "stdout",
     "output_type": "stream",
     "text": [
      "Nombre: Pikachu\n",
      "Tipo: Eléctrico\n",
      "Legendario: No\n",
      "\n",
      "---\n",
      "\n",
      "Nombre: Mewtwo\n",
      "Tipo: Psíquico\n",
      "Legendario: Sí\n",
      "\n",
      "---\n",
      "\n",
      "Nombre: Charizard\n",
      "Tipo: Fuego/Volador\n",
      "Legendario: No\n",
      "\n",
      "---\n",
      "\n",
      "Tortola No se encuentra en el pokedex\n",
      "Pokémon 'Tortola' no encontrado en la Pokédex.\n"
     ]
    }
   ],
   "source": [
    "print(pokedex(\"Pikachu\", hash_table))\n",
    "print(\"\\n---\\n\")\n",
    "print(pokedex(\"Mewtwo\", hash_table))\n",
    "print(\"\\n---\\n\")\n",
    "print(pokedex(\"Charizard\", hash_table))\n",
    "print(\"\\n---\\n\")\n",
    "print(pokedex(\"Tortola\", hash_table))  "
   ]
  },
  {
   "cell_type": "markdown",
   "metadata": {},
   "source": [
    "Pokemon favorito: MEW"
   ]
  }
 ],
 "metadata": {
  "kernelspec": {
   "display_name": "Python 3",
   "language": "python",
   "name": "python3"
  },
  "language_info": {
   "codemirror_mode": {
    "name": "ipython",
    "version": 3
   },
   "file_extension": ".py",
   "mimetype": "text/x-python",
   "name": "python",
   "nbconvert_exporter": "python",
   "pygments_lexer": "ipython3",
   "version": "3.11.9"
  }
 },
 "nbformat": 4,
 "nbformat_minor": 2
}
