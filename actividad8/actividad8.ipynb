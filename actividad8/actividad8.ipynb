{
 "cells": [
  {
   "cell_type": "code",
   "execution_count": 19,
   "metadata": {},
   "outputs": [],
   "source": [
    "import random\n",
    "import time\n",
    "\n",
    "#1000 elementos desordenados aleatoriamente entre 1 y 1000\n",
    "arreglo_desordenado = random.sample(range(1, 10000001), 10000000)"
   ]
  },
  {
   "cell_type": "code",
   "execution_count": 20,
   "metadata": {},
   "outputs": [],
   "source": [
    "\n",
    "import math\n",
    "\n",
    "\n",
    "def merge(left_arr, right_arr):\n",
    "    merged = []\n",
    "    i, j = 0, 0\n",
    "\n",
    "    left_arr.append(math.inf)\n",
    "    right_arr.append(math.inf)\n",
    "\n",
    "    while left_arr[i] != math.inf or right_arr[j] != math.inf:\n",
    "        if left_arr[i] < right_arr[j]:\n",
    "            merged.append(left_arr[i])\n",
    "            i += 1\n",
    "        else:\n",
    "            merged.append(right_arr[j])\n",
    "            j += 1\n",
    "\n",
    "    left_arr.pop()\n",
    "    right_arr.pop()\n",
    "\n",
    "    return merged\n",
    "\n",
    "\n",
    "def merge_sort(arr):\n",
    "    if len(arr) <= 1:\n",
    "        return arr\n",
    "\n",
    "    mid = len(arr) // 2\n",
    "    left = merge_sort(arr[:mid])\n",
    "    right = merge_sort(arr[mid:])\n",
    "\n",
    "    return merge(left, right)\n"
   ]
  },
  {
   "cell_type": "code",
   "execution_count": 21,
   "metadata": {},
   "outputs": [
    {
     "name": "stdout",
     "output_type": "stream",
     "text": [
      "Tiempo de ejecución del merge sort normal: 83.45572876930237 segundos\n"
     ]
    }
   ],
   "source": [
    "start_time = time.time()\n",
    "merge_sort(arreglo_desordenado)\n",
    "end_time = time.time()\n",
    "\n",
    "print(\"Tiempo de ejecución del merge sort normal:\", end_time - start_time, \"segundos\")\n"
   ]
  },
  {
   "cell_type": "markdown",
   "metadata": {},
   "source": [
    "Utilizando arreglos aleatorios de 1,000,000 elementos, se encontraron los siguientes tiempos: \n",
    "\n",
    "Tiempo de ejecución del merge sort paralelo: 8.491748332977295 segundos (En un script por problemas de windows)\n",
    "\n",
    "Tiempo de ejecución del merge sort normal: 4.509132385253906 segundos\n",
    "\n",
    "El Normal casi es el doble de rápido que al correr procesos en paralelo, por lo que se puede decir que el costo de la paralelización y su unión posterior es mucho más grande que los beneficios que trae. \n"
   ]
  },
  {
   "cell_type": "markdown",
   "metadata": {},
   "source": [
    "Sin embargo, al utilizar arreglos aleatorios de 10,000,000 elementos, se encontraron los siguientes tiempos:\n",
    "\n",
    "Tiempo de ejecución del merge sort normal: 83.45572876930237 segundos\n",
    "\n",
    "Tiempo de ejecución del merge sort paralelo: 103.79995441436768 segundos\n",
    "\n",
    "Aqui vemos como los costos se van acercando a un punto de quiebre donde eventualmente podría atraer mayor beneficio si se utilizaran más datos.\n"
   ]
  }
 ],
 "metadata": {
  "kernelspec": {
   "display_name": "Python 3",
   "language": "python",
   "name": "python3"
  },
  "language_info": {
   "codemirror_mode": {
    "name": "ipython",
    "version": 3
   },
   "file_extension": ".py",
   "mimetype": "text/x-python",
   "name": "python",
   "nbconvert_exporter": "python",
   "pygments_lexer": "ipython3",
   "version": "3.11.9"
  }
 },
 "nbformat": 4,
 "nbformat_minor": 2
}
